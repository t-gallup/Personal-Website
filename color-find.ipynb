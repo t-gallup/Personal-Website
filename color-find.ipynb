{
 "cells": [
  {
   "cell_type": "code",
   "execution_count": 2,
   "metadata": {},
   "outputs": [
    {
     "name": "stdout",
     "output_type": "stream",
     "text": [
      "The hex color code for the green is: #00543c\n"
     ]
    }
   ],
   "source": [
    "from PIL import Image\n",
    "\n",
    "# Open the image\n",
    "image = Image.open(\"public/images/USF Logo.png\")\n",
    "\n",
    "# Get the colors in the image\n",
    "colors = image.getcolors(image.size[0] * image.size[1])\n",
    "\n",
    "# Sort the colors by the number of times they appear (most frequent first)\n",
    "colors.sort(reverse=True, key=lambda x: x[0])\n",
    "\n",
    "# The most frequent color\n",
    "most_frequent_color = colors[0][1]\n",
    "hex_color = '#{:02x}{:02x}{:02x}'.format(*most_frequent_color[:3])\n",
    "\n",
    "print(f\"The hex color code for the green is: {hex_color}\")"
   ]
  }
 ],
 "metadata": {
  "kernelspec": {
   "display_name": "base",
   "language": "python",
   "name": "python3"
  },
  "language_info": {
   "codemirror_mode": {
    "name": "ipython",
    "version": 3
   },
   "file_extension": ".py",
   "mimetype": "text/x-python",
   "name": "python",
   "nbconvert_exporter": "python",
   "pygments_lexer": "ipython3",
   "version": "3.12.4"
  }
 },
 "nbformat": 4,
 "nbformat_minor": 2
}
